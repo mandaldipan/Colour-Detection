{
 "cells": [
  {
   "cell_type": "markdown",
   "id": "adaab017",
   "metadata": {},
   "source": [
    "# The Sparks Foundation #GRIPJUNE21\n",
    "\n",
    "## Computer Vision & Internet of Things\n",
    "\n",
    "### Task 2 : COLOUR IDENTIFICATION IN IMAGES.\n",
    "\n",
    "### By - DIPAN MANDAL\n",
    "\n",
    "### What is Colour Detection?\n",
    " - Colour detection is the process of detecting the name of any color. Simple isn’t it? Well, for humans this is an extremely easy task but for computers, it is not straightforward. Human eyes and brains work together to translate light into color. Light receptors that are present in our eyes transmit the signal to the brain. Our brain then recognizes the color. Since childhood, we have mapped certain lights with their color names. We will be using the somewhat same strategy to detect color names.\n",
    " \n",
    "### About the Python Project\n",
    " - In this color detection Python project, we are going to build an application through which you can automatically get the name of the color by clicking on them. So for this, we will have a data file that contains the color name and its values. Then we will calculate the distance from each color and find the shortest one.\n",
    " \n",
    " "
   ]
  },
  {
   "cell_type": "markdown",
   "id": "3d930e5f",
   "metadata": {},
   "source": [
    "#### Importing the dependencies."
   ]
  },
  {
   "cell_type": "code",
   "execution_count": 6,
   "id": "1f992076",
   "metadata": {},
   "outputs": [],
   "source": [
    "import cv2\n",
    "import pandas as pd"
   ]
  },
  {
   "cell_type": "markdown",
   "id": "21857f3b",
   "metadata": {},
   "source": [
    "#### Reading the Image"
   ]
  },
  {
   "cell_type": "code",
   "execution_count": 7,
   "id": "25ab15fa",
   "metadata": {},
   "outputs": [],
   "source": [
    "img_path = r'picture.jpg'    # The path of the Image file.\n",
    "\n",
    "Img = cv2.imread(img_path)"
   ]
  },
  {
   "cell_type": "code",
   "execution_count": 8,
   "id": "c80f24ca",
   "metadata": {},
   "outputs": [],
   "source": [
    "# Declaring Some Global Variables, will use them later on.\n",
    "clicked = False\n",
    "r = g = b = x_pos = y_pos = 0"
   ]
  },
  {
   "cell_type": "markdown",
   "id": "e24fbfdb",
   "metadata": {},
   "source": [
    "<b>Here, we have taken a dataset of colours called \" colors.csv \", with the help of this dataset we are going to match the colours in the image. So, let's see how many colours it contains. "
   ]
  },
  {
   "cell_type": "code",
   "execution_count": 9,
   "id": "29cc18a1",
   "metadata": {},
   "outputs": [
    {
     "name": "stdout",
     "output_type": "stream",
     "text": [
      "- The Dataset to match from is \n",
      "\n",
      "                     color             color_name      hex    R    G    B\n",
      "0      air_force_blue_raf   Air Force Blue (Raf)  #5d8aa8   93  138  168\n",
      "1     air_force_blue_usaf  Air Force Blue (Usaf)  #00308f    0   48  143\n",
      "2    air_superiority_blue   Air Superiority Blue  #72a0c1  114  160  193\n",
      "3         alabama_crimson        Alabama Crimson  #a32638  163   38   56\n",
      "4              alice_blue             Alice Blue  #f0f8ff  240  248  255\n",
      "..                    ...                    ...      ...  ...  ...  ...\n",
      "860         yellow_orange          Yellow Orange  #ffae42  255  174   66\n",
      "861        yellow_process       Yellow (Process)  #ffef00  255  239    0\n",
      "862            yellow_ryb           Yellow (Ryb)  #fefe33  254  254   51\n",
      "863                zaffre                 Zaffre  #0014a8    0   20  168\n",
      "864     zinnwaldite_brown      Zinnwaldite Brown  #2c1608   44   22    8\n",
      "\n",
      "[865 rows x 6 columns]\n"
     ]
    }
   ],
   "source": [
    "# Reading csv file with pandas and giving names to each column\n",
    "index = [\"color\", \"color_name\", \"hex\", \"R\", \"G\", \"B\"]\n",
    "csv = pd.read_csv('colors.csv', names=index, header=None)\n",
    "\n",
    "print('- The Dataset to match from is \\n\\n',csv)"
   ]
  },
  {
   "cell_type": "markdown",
   "id": "3b140d3d",
   "metadata": {},
   "source": [
    "### So we saw that the dataset contains 865 different colours, and their hexadecimal values along with their R,G,B values.\n",
    "So, now we will be creating two functions named, **\"get_color_name( )\"** and **\"draw_function\"** . \n",
    "\n",
    "- The **draw_function** will be giving us the R, G, B values of the cursor position where we will **double left click**. (Any other sort of click can also be used in place of double left click). The **R, G, B** values are then stored into **global variables** for further use.\n",
    "\n",
    "\n",
    "- Another function is **get_color_name**, this function takes the R, G, B values from the draw_function and matches it with the dataset of colours(colors.csv) and returns the name of the closest colour it found while matching."
   ]
  },
  {
   "cell_type": "code",
   "execution_count": 10,
   "id": "0266ed23",
   "metadata": {},
   "outputs": [],
   "source": [
    "# function to calculate minimum distance from all colors and get the most matching color\n",
    "def get_color_name(R, G, B):\n",
    "    minimum = 10000\n",
    "    for i in range(len(csv)):\n",
    "        d = abs(R - int(csv.loc[i, \"R\"])) + abs(G - int(csv.loc[i, \"G\"])) + abs(B - int(csv.loc[i, \"B\"]))\n",
    "        if (d <= minimum):\n",
    "            minimum = d\n",
    "            cname = csv.loc[i, \"color_name\"]\n",
    "    return cname\n",
    "\n",
    "# function to get x,y coordinates of mouse double click\n",
    "def draw_function(event, x, y, flags, param):\n",
    "    if event == cv2.EVENT_LBUTTONDBLCLK:\n",
    "        global b, g, r, x_pos, y_pos, clicked\n",
    "        clicked = True\n",
    "        x_pos = x\n",
    "        y_pos = y\n",
    "        b, g, r = Img[y, x]\n",
    "        b = int(b)\n",
    "        g = int(g)\n",
    "        r = int(r)\n",
    "\n",
    "\n",
    "cv2.namedWindow('Image')\n",
    "cv2.setMouseCallback('Image', draw_function)\n",
    "\n",
    "while True:\n",
    "\n",
    "    cv2.imshow(\"Image\", Img)\n",
    "    if clicked:\n",
    "\n",
    "        # cv2.rectangle(image, start point, endpoint, color, thickness), -1 fills entire rectangle\n",
    "        cv2.rectangle(Img, (20, 20), (750, 60), (b, g, r), -1)\n",
    "\n",
    "        # Creating text string to display( Color name and RGB values )\n",
    "        text = get_color_name(r, g, b) + ' R=' + str(r) + ' G=' + str(g) + ' B=' + str(b)\n",
    "\n",
    "        # cv2.putText(img,text,start,font(0-7),fontScale,color,thickness,lineType )\n",
    "        cv2.putText(Img, text, (50, 50), 2, 0.8, (255, 255, 255), 2, cv2.LINE_AA)\n",
    "\n",
    "        # For very light colours we will display text in black colour\n",
    "        if r + g + b >= 600:\n",
    "            cv2.putText(Img, text, (50, 50), 2, 0.8, (0, 0, 0), 2, cv2.LINE_AA)\n",
    "\n",
    "        clicked = False\n",
    "\n",
    "    # Break the loop when user hits 'esc' key\n",
    "    if cv2.waitKey(20) & 0xFF == 27:\n",
    "        break\n",
    "\n",
    "cv2.destroyAllWindows()\n"
   ]
  },
  {
   "cell_type": "markdown",
   "id": "e3efee99",
   "metadata": {},
   "source": [
    "## This concludes the topic, Color Identification using an Image"
   ]
  }
 ],
 "metadata": {
  "kernelspec": {
   "display_name": "Python 3",
   "language": "python",
   "name": "python3"
  },
  "language_info": {
   "codemirror_mode": {
    "name": "ipython",
    "version": 3
   },
   "file_extension": ".py",
   "mimetype": "text/x-python",
   "name": "python",
   "nbconvert_exporter": "python",
   "pygments_lexer": "ipython3",
   "version": "3.8.8"
  }
 },
 "nbformat": 4,
 "nbformat_minor": 5
}
